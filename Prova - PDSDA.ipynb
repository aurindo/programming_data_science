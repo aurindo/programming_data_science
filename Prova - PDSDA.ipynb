{
 "cells": [
  {
   "cell_type": "markdown",
   "metadata": {},
   "source": [
    "![title](https://doity.com.br/media/doity/eventos/evento-20025-logo_organizador.png)\n",
    "\n",
    "# Prova de Programação para Data Science e Data Analytics\n",
    "\n",
    "* **Prof. Cleilton Lima Rocha**\n",
    "* **emails:** climarocha@gmail.com\n",
    "* **deadline: 11/3 às 23h**\n",
    "***\n",
    "* **Titulo do e-mail:** Prova de PDSDA [Fulane, Beltrano]\n",
    "* **Conteúdo do e-mail:** Envie-me, obrigatoriamente, o código fonte e o report de todos os jupyters notebook (File ==> Download As ==> Html ou PDF), com o nome dos membros da dupla, para um dos meus emails, climarocha@gmail.com ou cleilton_rocha@atlantico.com.br até o dia **11/3 às 23h**, após esta data sua prova valerá no máximo **8 (oito pontos)**.\n",
    "* **Respostas das questões:** \n",
    "    - Quando você julgar necessário construa gráficos para responder as questões e explique-os de forma sucinta com clareza e objetividade. Isso lhe ajudará a se tornar um bom cientista de dados.\n",
    "    - As questões podem ser respondidas utilizando o **Pyspark**, embora não seja obrigatório.\n",
    "***\n",
    "Qualquer dúvida podem me escrever!"
   ]
  },
  {
   "cell_type": "markdown",
   "metadata": {},
   "source": [
    "### Descrição"
   ]
  },
  {
   "cell_type": "markdown",
   "metadata": {},
   "source": [
    "Para facilitar a administração da segurança pública, o Departamento de Polícia de Seattle dividiu a cidade em 5 partes, cada uma\n",
    "com uma delegacia. Cada delegacia foi subdividida em setores, e estes foram divididos em *beats* (hondas).\n",
    "A administração tem dois *datasets* um chamado **Call_Data**, para obter maiores informações acesse este [link](https://data.seattle.gov/Public-Safety/Call-Data/33kz-ixgy) e outro chamado **Crime_Data**, maiores detalhes [aqui](https://data.seattle.gov/Public-Safety/Crime-Data/4fs7-3vj5) (acesse os links para compreender o dicionário de cada dataset). \n",
    "\n",
    "O download do dataset de chamadas está disponível neste [link](https://data.seattle.gov/api/views/33kz-ixgy/rows.csv?accessType=DOWNLOAD) e o download do dataset de crimes está [aqui](https://data.seattle.gov/api/views/4fs7-3vj5/rows.csv?accessType=DOWNLOAD).\n",
    "\n",
    "\n",
    "O administrador geral pediu que você, cientista de dados, o ajudasse a elaborar um report respondendo algumas perguntas.  O objetivo deste projeto é ajudar a administração fornecendo informações relevantes para ajudá-los a resolver de forma mais rápida uma chamada, um crime ou mesmo replanejar a distribuição das hondas e setores. Como bom cientista de dados que você é, você tem a liberdade de ir além e responder mais perguntas do que as que estão aqui =D, através dos insights que vão surgindo a medida que você mergulha no problema.\n",
    "\n",
    "**Boa prova e hands on!**"
   ]
  },
  {
   "cell_type": "markdown",
   "metadata": {},
   "source": [
    "### Questões obrigatórias da avaliação"
   ]
  },
  {
   "cell_type": "markdown",
   "metadata": {},
   "source": [
    "- Carreque o dataset de chamadas ..."
   ]
  },
  {
   "cell_type": "code",
   "execution_count": 3,
   "metadata": {},
   "outputs": [],
   "source": [
    "import pandas as pd\n",
    "dfOriginal = pd.read_csv(\"Call_Data.csv\", delimiter=\",\")"
   ]
  },
  {
   "cell_type": "markdown",
   "metadata": {},
   "source": [
    "- Crie variáveis para representar o ano, mês, dia da semana e semana (por exemplo, 2_2018) para o dataset de chamadas."
   ]
  },
  {
   "cell_type": "code",
   "execution_count": null,
   "metadata": {},
   "outputs": [],
   "source": []
  },
  {
   "cell_type": "code",
   "execution_count": 34,
   "metadata": {},
   "outputs": [],
   "source": [
    "# dfA = dfOriginal\n",
    "# dfA['Date'] = dfA['Original Time Queued'].astype('datetime64[ns]')\n",
    "\n",
    "dfA['year'] = dfA['Date'].dt.year\n",
    "dfA['month'] = dfA['Date'].dt.month\n",
    "dfA['weekday'] = dfA['Date'].dt.day_name()"
   ]
  },
  {
   "cell_type": "markdown",
   "metadata": {},
   "source": [
    "- Elimine os registros cujo precint, setor ou beat seja nulo."
   ]
  },
  {
   "cell_type": "code",
   "execution_count": 35,
   "metadata": {},
   "outputs": [],
   "source": [
    "import missingno as msno\n",
    "import matplotlib.pyplot as plt\n",
    "\n",
    "df = dfA.dropna(subset=['Precinct', 'Sector', 'Beat'])"
   ]
  },
  {
   "cell_type": "markdown",
   "metadata": {},
   "source": [
    "- Qual delegacia tem mais setores? E qual tem mais beats?"
   ]
  },
  {
   "cell_type": "code",
   "execution_count": 36,
   "metadata": {},
   "outputs": [
    {
     "data": {
      "text/html": [
       "<div>\n",
       "<style scoped>\n",
       "    .dataframe tbody tr th:only-of-type {\n",
       "        vertical-align: middle;\n",
       "    }\n",
       "\n",
       "    .dataframe tbody tr th {\n",
       "        vertical-align: top;\n",
       "    }\n",
       "\n",
       "    .dataframe thead th {\n",
       "        text-align: right;\n",
       "    }\n",
       "</style>\n",
       "<table border=\"1\" class=\"dataframe\">\n",
       "  <thead>\n",
       "    <tr style=\"text-align: right;\">\n",
       "      <th></th>\n",
       "      <th>Precinct</th>\n",
       "      <th>Sectors</th>\n",
       "    </tr>\n",
       "  </thead>\n",
       "  <tbody>\n",
       "    <tr>\n",
       "      <th>1</th>\n",
       "      <td>NORTH</td>\n",
       "      <td>5</td>\n",
       "    </tr>\n",
       "  </tbody>\n",
       "</table>\n",
       "</div>"
      ],
      "text/plain": [
       "  Precinct  Sectors\n",
       "1    NORTH        5"
      ]
     },
     "execution_count": 36,
     "metadata": {},
     "output_type": "execute_result"
    }
   ],
   "source": [
    "df2 = df[['Precinct', 'Sector', 'Beat']]\n",
    "\n",
    "dfSectorsByPrecinct = df2.groupby('Precinct')['Sector'].unique().to_frame().reset_index()\n",
    "dfSectorsByPrecinct['Sectors'] = dfSectorsByPrecinct['Sector'].apply(lambda x: len(x))\n",
    "\n",
    "dfSectorsByPrecinct[(dfSectorsByPrecinct['Sectors'].max() == dfSectorsByPrecinct['Sectors'])][['Precinct', 'Sectors']]\n",
    "\n",
    "# Qual delegacia tem mais setores? R. NORTH com 5 Sectors"
   ]
  },
  {
   "cell_type": "code",
   "execution_count": 37,
   "metadata": {},
   "outputs": [
    {
     "data": {
      "text/html": [
       "<div>\n",
       "<style scoped>\n",
       "    .dataframe tbody tr th:only-of-type {\n",
       "        vertical-align: middle;\n",
       "    }\n",
       "\n",
       "    .dataframe tbody tr th {\n",
       "        vertical-align: top;\n",
       "    }\n",
       "\n",
       "    .dataframe thead th {\n",
       "        text-align: right;\n",
       "    }\n",
       "</style>\n",
       "<table border=\"1\" class=\"dataframe\">\n",
       "  <thead>\n",
       "    <tr style=\"text-align: right;\">\n",
       "      <th></th>\n",
       "      <th>Precinct</th>\n",
       "      <th>Beats</th>\n",
       "    </tr>\n",
       "  </thead>\n",
       "  <tbody>\n",
       "    <tr>\n",
       "      <th>1</th>\n",
       "      <td>NORTH</td>\n",
       "      <td>15</td>\n",
       "    </tr>\n",
       "  </tbody>\n",
       "</table>\n",
       "</div>"
      ],
      "text/plain": [
       "  Precinct  Beats\n",
       "1    NORTH     15"
      ]
     },
     "execution_count": 37,
     "metadata": {},
     "output_type": "execute_result"
    }
   ],
   "source": [
    "dfBeatByPrecinct = df2.groupby('Precinct')['Beat'].unique().to_frame().reset_index()\n",
    "dfBeatByPrecinct['Beats'] = dfBeatByPrecinct['Beat'].apply(lambda x: len(x))\n",
    "\n",
    "dfBeatByPrecinct[(dfBeatByPrecinct['Beats'].max() == dfBeatByPrecinct['Beats'])][['Precinct', 'Beats']]\n",
    "\n",
    "# E qual tem mais beats? R. NORTH com 15 Beats"
   ]
  },
  {
   "cell_type": "markdown",
   "metadata": {},
   "source": [
    "- Apresente a evolução do número de chamadas, escolha 3 tipos de chamadas, ao longo dos últimos 10 anos."
   ]
  },
  {
   "cell_type": "code",
   "execution_count": 38,
   "metadata": {},
   "outputs": [
    {
     "data": {
      "text/plain": [
       "ONVIEW                           1559755\n",
       "911                              1318089\n",
       "TELEPHONE OTHER, NOT 911          902782\n",
       "ALARM CALL (NOT POLICE ALARM)     113692\n",
       "POLICE (VARDA) ALARM                 153\n",
       "HISTORY CALL (RETRO)                  90\n",
       "IN PERSON COMPLAINT                   68\n",
       "TEXT MESSAGE                          54\n",
       "PROACTIVE (OFFICER INITIATED)         46\n",
       "SCHEDULED EVENT (RECURRING)           30\n",
       "FK ERROR                               1\n",
       "Name: Call Type, dtype: int64"
      ]
     },
     "execution_count": 38,
     "metadata": {},
     "output_type": "execute_result"
    }
   ],
   "source": [
    "df[\"Call Type\"].value_counts().nlargest(11)"
   ]
  },
  {
   "cell_type": "code",
   "execution_count": 39,
   "metadata": {},
   "outputs": [
    {
     "data": {
      "image/png": "[encoded data removed]",
      "text/plain": [
       "<Figure size 1440x720 with 1 Axes>"
      ]
     },
     "metadata": {
      "needs_background": "light"
     },
     "output_type": "display_data"
    }
   ],
   "source": [
    "from datetime import datetime\n",
    "\n",
    "def tratarDataFrame(mainDataFrame, cellType):\n",
    "    dfTarget = mainDataFrame[mainDataFrame['Call Type'] == cellType]\n",
    "    dfTarget.index = dfTarget['Date']\n",
    "    dfTarget = dfTarget.resample('y').count()\n",
    "    dfTarget = dfTarget.drop(['Original Time Queued', 'Date'], axis=1)\n",
    "    dfTarget['Date'] = dfTarget.index\n",
    "    dfTarget.index = range(1, len(dfTarget) + 1)\n",
    "    dfTarget = dfTarget.rename(index=str, columns={'Call Type': cellType})\n",
    "    return dfTarget\n",
    "\n",
    "callTypeA = 'HISTORY CALL (RETRO)'\n",
    "callTypeB = 'IN PERSON COMPLAINT'\n",
    "callTypeC = 'TEXT MESSAGE'\n",
    "\n",
    "dfCallEvolution = df[['Call Type', 'Original Time Queued']]\n",
    "dfCallEvolution = dfCallEvolution[dfCallEvolution[\"Call Type\"].isin([callTypeA, callTypeB, callTypeC])]\n",
    "dfCallEvolution['Date'] = dfCallEvolution['Original Time Queued'].astype('datetime64[ns]')\n",
    "\n",
    "dfA = tratarDataFrame(dfCallEvolution, callTypeA)\n",
    "dfB = tratarDataFrame(dfCallEvolution, callTypeB)\n",
    "dfC = tratarDataFrame(dfCallEvolution, callTypeC)\n",
    "\n",
    "dfCallEvolution = pd.merge(dfA, dfB, on='Date', how='outer')\n",
    "dfCallEvolution = pd.merge(dfCallEvolution, dfC, on='Date', how='outer')\n",
    "\n",
    "dfCallEvolution.index = range(1, len(dfCallEvolution) + 1)\n",
    "dfCallEvolution.fillna(0, inplace=True)\n",
    "\n",
    "import matplotlib.pyplot as plt\n",
    "\n",
    "plt.figure(figsize=(20,10))\n",
    "\n",
    "date = dfCallEvolution['Date']\n",
    "data1 = dfCallEvolution[callTypeA]\n",
    "data2 = dfCallEvolution[callTypeB]\n",
    "data3 = dfCallEvolution[callTypeC]\n",
    "\n",
    "data1.size\n",
    "\n",
    "plt.plot( date, data1, 'go')\n",
    "plt.plot( date, data1, 'k:', color='green', label=callTypeA)\n",
    "\n",
    "plt.plot( date, data2, 'ro')\n",
    "plt.plot( date, data2, 'k:', color='red', label=callTypeB)\n",
    "\n",
    "plt.plot( date, data3, 'bo')\n",
    "plt.plot( date, data3, 'k:', color='blue', label=callTypeC)\n",
    "\n",
    "\n",
    "plt.legend(bbox_to_anchor=(1.05, 1), loc=2, borderaxespad=0.)\n",
    "plt.title(\"Chamadas por Ano\")\n",
    "\n",
    "plt.grid(True)\n",
    "plt.xlabel(\"Anos\")\n",
    "plt.ylabel(\"Quantidade de chamadas\")\n",
    "plt.show()"
   ]
  },
  {
   "cell_type": "markdown",
   "metadata": {},
   "source": [
    "- A delegacia que possui mais setores é a que mais recebe chamadas? Justifique sua resposta."
   ]
  },
  {
   "cell_type": "code",
   "execution_count": 40,
   "metadata": {},
   "outputs": [
    {
     "data": {
      "text/plain": [
       "WEST         1172582\n",
       "NORTH        1037262\n",
       "SOUTH         646832\n",
       "EAST          635319\n",
       "SOUTHWEST     402765\n",
       "Name: Precinct, dtype: int64"
      ]
     },
     "execution_count": 40,
     "metadata": {},
     "output_type": "execute_result"
    }
   ],
   "source": [
    "df['Precinct'].value_counts()"
   ]
  },
  {
   "cell_type": "code",
   "execution_count": 41,
   "metadata": {},
   "outputs": [
    {
     "data": {
      "text/plain": [
       "MARY     334933\n",
       "KING     331799\n",
       "DAVID    292839\n",
       "QUEEN    213011\n",
       "Name: Sector, dtype: int64"
      ]
     },
     "execution_count": 41,
     "metadata": {},
     "output_type": "execute_result"
    }
   ],
   "source": [
    "dfwest = df[df['Precinct'] == 'WEST']\n",
    "dfwest['Sector'].value_counts()"
   ]
  },
  {
   "cell_type": "code",
   "execution_count": 42,
   "metadata": {},
   "outputs": [
    {
     "data": {
      "text/plain": [
       "UNION      242640\n",
       "NORA       226807\n",
       "BOY        225476\n",
       "LINCOLN    185296\n",
       "JOHN       157043\n",
       "Name: Sector, dtype: int64"
      ]
     },
     "execution_count": 42,
     "metadata": {},
     "output_type": "execute_result"
    }
   ],
   "source": [
    "dfwest = df[df['Precinct'] == 'NORTH']\n",
    "dfwest['Sector'].value_counts()"
   ]
  },
  {
   "cell_type": "markdown",
   "metadata": {},
   "source": [
    "Pergunta: A delegacia que possui mais setores é a que mais recebe chamadas? Justifique sua resposta.\n",
    "\n",
    "Resposta: Não, a delegacia que mais possui chamadas é a WEST. Essa delegacia atende aos 3 setores com o maior número de chamados."
   ]
  },
  {
   "cell_type": "markdown",
   "metadata": {},
   "source": [
    "-  Apresente o ranking dos setores, no máximo 10, considerando o percentual de chamadas fraudulentas \"FALSE COMPLAINT/UNFOUNDED\"."
   ]
  },
  {
   "cell_type": "code",
   "execution_count": 43,
   "metadata": {},
   "outputs": [
    {
     "data": {
      "text/plain": [
       "ROBERT     7832\n",
       "QUEEN      7380\n",
       "WILLIAM    7162\n",
       "CHARLIE    7090\n",
       "UNION      6948\n",
       "BOY        6407\n",
       "SAM        5796\n",
       "OCEAN      5668\n",
       "LINCOLN    4853\n",
       "JOHN       4708\n",
       "Name: Sector, dtype: int64"
      ]
     },
     "execution_count": 43,
     "metadata": {},
     "output_type": "execute_result"
    }
   ],
   "source": [
    "dfFalseComplain = df[df['Event Clearance Description'] == 'FALSE COMPLAINT/UNFOUNDED']\n",
    "dfFalseComplain['Sector'].value_counts().nlargest(10)"
   ]
  },
  {
   "cell_type": "markdown",
   "metadata": {},
   "source": [
    "* Com relação à distribuição das chamadas fraudulentas no tempo, é possível observar momentos dentro dos dias ou dias\n",
    "da semana onde chamadas deste tipo tem maiores chances de ocorrerem?"
   ]
  },
  {
   "cell_type": "code",
   "execution_count": 44,
   "metadata": {},
   "outputs": [
    {
     "data": {
      "text/html": [
       "<div>\n",
       "<style scoped>\n",
       "    .dataframe tbody tr th:only-of-type {\n",
       "        vertical-align: middle;\n",
       "    }\n",
       "\n",
       "    .dataframe tbody tr th {\n",
       "        vertical-align: top;\n",
       "    }\n",
       "\n",
       "    .dataframe thead th {\n",
       "        text-align: right;\n",
       "    }\n",
       "</style>\n",
       "<table border=\"1\" class=\"dataframe\">\n",
       "  <thead>\n",
       "    <tr style=\"text-align: right;\">\n",
       "      <th></th>\n",
       "      <th>CAD Event Number</th>\n",
       "      <th>Event Clearance Description</th>\n",
       "      <th>Call Type</th>\n",
       "      <th>Priority</th>\n",
       "      <th>Initial Call Type</th>\n",
       "      <th>Final Call Type</th>\n",
       "      <th>Original Time Queued</th>\n",
       "      <th>Arrived Time</th>\n",
       "      <th>Precinct</th>\n",
       "      <th>Sector</th>\n",
       "      <th>Beat</th>\n",
       "      <th>Date</th>\n",
       "      <th>year</th>\n",
       "      <th>month</th>\n",
       "      <th>week_day</th>\n",
       "      <th>weekday</th>\n",
       "    </tr>\n",
       "  </thead>\n",
       "  <tbody>\n",
       "    <tr>\n",
       "      <th>25</th>\n",
       "      <td>2009000189368</td>\n",
       "      <td>FALSE COMPLAINT/UNFOUNDED</td>\n",
       "      <td>ALARM CALL (NOT POLICE ALARM)</td>\n",
       "      <td>3</td>\n",
       "      <td>ALARM - RESIDENTIAL - BURGLARY, SILENT/AUDIBLE</td>\n",
       "      <td>ALARM - RESIDENTIAL - BURGLARY, SILENT/AUDIBLE</td>\n",
       "      <td>06/02/2009 04:35:37 AM</td>\n",
       "      <td>Jun  2 2009 05:10:43:000AM</td>\n",
       "      <td>SOUTHWEST</td>\n",
       "      <td>FRANK</td>\n",
       "      <td>F1</td>\n",
       "      <td>2009-06-02 04:35:37</td>\n",
       "      <td>2009</td>\n",
       "      <td>6</td>\n",
       "      <td>Tuesday</td>\n",
       "      <td>Tuesday</td>\n",
       "    </tr>\n",
       "    <tr>\n",
       "      <th>80</th>\n",
       "      <td>2009000189435</td>\n",
       "      <td>FALSE COMPLAINT/UNFOUNDED</td>\n",
       "      <td>ALARM CALL (NOT POLICE ALARM)</td>\n",
       "      <td>3</td>\n",
       "      <td>ALARM - RESIDENTIAL - BURGLARY, SILENT/AUDIBLE</td>\n",
       "      <td>ALARM - RESIDENTIAL - BURGLARY, SILENT/AUDIBLE</td>\n",
       "      <td>06/02/2009 07:23:39 AM</td>\n",
       "      <td>Jun  2 2009 07:33:09:000AM</td>\n",
       "      <td>SOUTH</td>\n",
       "      <td>ROBERT</td>\n",
       "      <td>R3</td>\n",
       "      <td>2009-06-02 07:23:39</td>\n",
       "      <td>2009</td>\n",
       "      <td>6</td>\n",
       "      <td>Tuesday</td>\n",
       "      <td>Tuesday</td>\n",
       "    </tr>\n",
       "    <tr>\n",
       "      <th>86</th>\n",
       "      <td>2009000189442</td>\n",
       "      <td>FALSE COMPLAINT/UNFOUNDED</td>\n",
       "      <td>ALARM CALL (NOT POLICE ALARM)</td>\n",
       "      <td>3</td>\n",
       "      <td>ALARM - COMM, SILENT/AUD BURG (INCL BANKS)</td>\n",
       "      <td>ALARM - COMM, SILENT/AUD BURG (INCL BANKS)</td>\n",
       "      <td>06/02/2009 07:35:33 AM</td>\n",
       "      <td>Jun  2 2009 07:48:07:000AM</td>\n",
       "      <td>SOUTH</td>\n",
       "      <td>OCEAN</td>\n",
       "      <td>O2</td>\n",
       "      <td>2009-06-02 07:35:33</td>\n",
       "      <td>2009</td>\n",
       "      <td>6</td>\n",
       "      <td>Tuesday</td>\n",
       "      <td>Tuesday</td>\n",
       "    </tr>\n",
       "    <tr>\n",
       "      <th>97</th>\n",
       "      <td>2009000189456</td>\n",
       "      <td>FALSE COMPLAINT/UNFOUNDED</td>\n",
       "      <td>ALARM CALL (NOT POLICE ALARM)</td>\n",
       "      <td>3</td>\n",
       "      <td>ALARM - RESIDENTIAL - BURGLARY, SILENT/AUDIBLE</td>\n",
       "      <td>ALARM - RESIDENTIAL - BURGLARY, SILENT/AUDIBLE</td>\n",
       "      <td>06/02/2009 07:43:34 AM</td>\n",
       "      <td>Jun  2 2009 08:01:57:000AM</td>\n",
       "      <td>NORTH</td>\n",
       "      <td>LINCOLN</td>\n",
       "      <td>L3</td>\n",
       "      <td>2009-06-02 07:43:34</td>\n",
       "      <td>2009</td>\n",
       "      <td>6</td>\n",
       "      <td>Tuesday</td>\n",
       "      <td>Tuesday</td>\n",
       "    </tr>\n",
       "    <tr>\n",
       "      <th>111</th>\n",
       "      <td>2009000189473</td>\n",
       "      <td>FALSE COMPLAINT/UNFOUNDED</td>\n",
       "      <td>ALARM CALL (NOT POLICE ALARM)</td>\n",
       "      <td>3</td>\n",
       "      <td>ALARM - COMM, SILENT/AUD BURG (INCL BANKS)</td>\n",
       "      <td>ALARM - COMM, SILENT/AUD BURG (INCL BANKS)</td>\n",
       "      <td>06/02/2009 08:14:50 AM</td>\n",
       "      <td>Jun  2 2009 08:45:26:000AM</td>\n",
       "      <td>NORTH</td>\n",
       "      <td>UNION</td>\n",
       "      <td>U3</td>\n",
       "      <td>2009-06-02 08:14:50</td>\n",
       "      <td>2009</td>\n",
       "      <td>6</td>\n",
       "      <td>Tuesday</td>\n",
       "      <td>Tuesday</td>\n",
       "    </tr>\n",
       "  </tbody>\n",
       "</table>\n",
       "</div>"
      ],
      "text/plain": [
       "     CAD Event Number Event Clearance Description  \\\n",
       "25      2009000189368   FALSE COMPLAINT/UNFOUNDED   \n",
       "80      2009000189435   FALSE COMPLAINT/UNFOUNDED   \n",
       "86      2009000189442   FALSE COMPLAINT/UNFOUNDED   \n",
       "97      2009000189456   FALSE COMPLAINT/UNFOUNDED   \n",
       "111     2009000189473   FALSE COMPLAINT/UNFOUNDED   \n",
       "\n",
       "                         Call Type  Priority  \\\n",
       "25   ALARM CALL (NOT POLICE ALARM)         3   \n",
       "80   ALARM CALL (NOT POLICE ALARM)         3   \n",
       "86   ALARM CALL (NOT POLICE ALARM)         3   \n",
       "97   ALARM CALL (NOT POLICE ALARM)         3   \n",
       "111  ALARM CALL (NOT POLICE ALARM)         3   \n",
       "\n",
       "                                  Initial Call Type  \\\n",
       "25   ALARM - RESIDENTIAL - BURGLARY, SILENT/AUDIBLE   \n",
       "80   ALARM - RESIDENTIAL - BURGLARY, SILENT/AUDIBLE   \n",
       "86       ALARM - COMM, SILENT/AUD BURG (INCL BANKS)   \n",
       "97   ALARM - RESIDENTIAL - BURGLARY, SILENT/AUDIBLE   \n",
       "111      ALARM - COMM, SILENT/AUD BURG (INCL BANKS)   \n",
       "\n",
       "                                    Final Call Type    Original Time Queued  \\\n",
       "25   ALARM - RESIDENTIAL - BURGLARY, SILENT/AUDIBLE  06/02/2009 04:35:37 AM   \n",
       "80   ALARM - RESIDENTIAL - BURGLARY, SILENT/AUDIBLE  06/02/2009 07:23:39 AM   \n",
       "86       ALARM - COMM, SILENT/AUD BURG (INCL BANKS)  06/02/2009 07:35:33 AM   \n",
       "97   ALARM - RESIDENTIAL - BURGLARY, SILENT/AUDIBLE  06/02/2009 07:43:34 AM   \n",
       "111      ALARM - COMM, SILENT/AUD BURG (INCL BANKS)  06/02/2009 08:14:50 AM   \n",
       "\n",
       "                   Arrived Time   Precinct   Sector Beat                Date  \\\n",
       "25   Jun  2 2009 05:10:43:000AM  SOUTHWEST    FRANK   F1 2009-06-02 04:35:37   \n",
       "80   Jun  2 2009 07:33:09:000AM      SOUTH   ROBERT   R3 2009-06-02 07:23:39   \n",
       "86   Jun  2 2009 07:48:07:000AM      SOUTH    OCEAN   O2 2009-06-02 07:35:33   \n",
       "97   Jun  2 2009 08:01:57:000AM      NORTH  LINCOLN   L3 2009-06-02 07:43:34   \n",
       "111  Jun  2 2009 08:45:26:000AM      NORTH    UNION   U3 2009-06-02 08:14:50   \n",
       "\n",
       "     year  month week_day  weekday  \n",
       "25   2009      6  Tuesday  Tuesday  \n",
       "80   2009      6  Tuesday  Tuesday  \n",
       "86   2009      6  Tuesday  Tuesday  \n",
       "97   2009      6  Tuesday  Tuesday  \n",
       "111  2009      6  Tuesday  Tuesday  "
      ]
     },
     "execution_count": 44,
     "metadata": {},
     "output_type": "execute_result"
    }
   ],
   "source": [
    "dfWeekday = dfFalseComplain\n",
    "# dfWeekday['Date'] = dfWeekday['Original Time Queued'].astype('datetime64[ns]')\n",
    "# dfWeekday['weekday'] = dfWeekday['Date'].dt.day_name()\n",
    "\n",
    "dfWeekday.head()"
   ]
  },
  {
   "cell_type": "code",
   "execution_count": 45,
   "metadata": {},
   "outputs": [
    {
     "data": {
      "image/png": "[encoded data removed]",
      "text/plain": [
       "<Figure size 1440x720 with 1 Axes>"
      ]
     },
     "metadata": {
      "needs_background": "light"
     },
     "output_type": "display_data"
    }
   ],
   "source": [
    "import seaborn as sns\n",
    "plt.figure(figsize=(20,10))\n",
    "\n",
    "groupByWeekDay = dfWeekday.groupby(['weekday'])\n",
    "groupByWeekDay['weekday'].count()\n",
    "\n",
    "dfFalseComplainByWeekday = pd.DataFrame(groupByWeekDay['weekday'].max())\n",
    "dfFalseComplainByWeekday['frequency'] = pd.DataFrame(groupByWeekDay['weekday'].count())\n",
    "\n",
    "sns.barplot(x=\"weekday\", y=\"frequency\", data=dfFalseComplainByWeekday);\n",
    "\n",
    "plt.title('Chamadas por dia da semana')\n",
    "plt.ylabel('Quantidade de chamadas', fontsize=12)\n",
    "plt.xlabel('Dia da semana', fontsize=12)\n",
    "plt.show()"
   ]
  },
  {
   "cell_type": "markdown",
   "metadata": {},
   "source": [
    "* Qual o dia em que ocorrem mais chamadas? E qual o tipo de chamada mais recorrente nesse dia? Como esse tipo de chamada evoluiu ao longo dos últimos 5 anos?"
   ]
  },
  {
   "cell_type": "code",
   "execution_count": 46,
   "metadata": {},
   "outputs": [
    {
     "data": {
      "image/png": "[encoded data removed]",
      "text/plain": [
       "<Figure size 1440x720 with 1 Axes>"
      ]
     },
     "metadata": {
      "needs_background": "light"
     },
     "output_type": "display_data"
    }
   ],
   "source": [
    "# Qual o dia em que ocorrem mais chamadas? \n",
    "# - Saturday\n",
    "\n",
    "# E qual o tipo de chamada mais recorrente nesse dia? \n",
    "dfSaturday = dfWeekday[dfWeekday['weekday'] == 'Saturday']\n",
    "dfSaturday['Call Type'].value_counts()\n",
    "# - ALARM CALL (NOT POLICE ALARM) - 11852\n",
    "\n",
    "\n",
    "# Como esse tipo de chamada evoluiu ao longo dos últimos 5 anos?\n",
    "dfTargetLast5years = dfSaturday[dfSaturday['Call Type'] == 'ALARM CALL (NOT POLICE ALARM)']\n",
    "dfTargetLast5years = dfTargetLast5years[['Date', 'Original Time Queued']]\n",
    "dfTargetLast5years['frequency'] = 1\n",
    "dfTargetLast5years.index = dfTargetLast5years['Date']\n",
    "dfTargetLast5years = dfTargetLast5years.resample('y').count()\n",
    "dfTargetLast5years = dfTargetLast5years.drop(['Date', 'Original Time Queued'], axis=1)\n",
    "dfTargetLast5years['Date'] = dfTargetLast5years.index\n",
    "dfTargetLast5years.index = range(1, len(dfTargetLast5years) + 1)\n",
    "\n",
    "dfTargetLast5years = dfTargetLast5years[dfTargetLast5years['Date'] > '04-30-2014']\n",
    "\n",
    "import matplotlib.pyplot as plt\n",
    "\n",
    "plt.figure(figsize=(20,10))\n",
    "\n",
    "date = dfTargetLast5years['Date']\n",
    "data1 = dfTargetLast5years['frequency']\n",
    "\n",
    "\n",
    "plt.plot( date, data1, 'go')\n",
    "plt.plot( date, data1, 'k:', color='green')\n",
    "\n",
    "plt.title(\"Chamadas nos últimos 5 anos\")\n",
    "\n",
    "plt.grid(True)\n",
    "plt.xlabel(\"Anos\")\n",
    "plt.ylabel(\"Quantidade de chamadas\")\n",
    "plt.show()\n",
    "\n",
    "# - Esteve praticamente estável, variando entre 1250 e 1400 chamdas por ano."
   ]
  },
  {
   "cell_type": "markdown",
   "metadata": {},
   "source": [
    "- Quais chamadas são *outliers* nos últimos 5 anos? Considere como *outlier* as chamadas fora do intervalo de 1,5 da distância inter quartil (Q3-Q1). O que você pode concluir desta informação?"
   ]
  },
  {
   "cell_type": "code",
   "execution_count": null,
   "metadata": {},
   "outputs": [],
   "source": []
  },
  {
   "cell_type": "markdown",
   "metadata": {},
   "source": [
    "* Quais as chamadas tem recebido mais atenção da polícia nos últimos 5 anos, considere a prioridade?"
   ]
  },
  {
   "cell_type": "code",
   "execution_count": 48,
   "metadata": {},
   "outputs": [
    {
     "name": "stderr",
     "output_type": "stream",
     "text": [
      "/usr/local/Cellar/python/3.7.2_1/Frameworks/Python.framework/Versions/3.7/lib/python3.7/site-packages/ipykernel_launcher.py:4: SettingWithCopyWarning: \n",
      "A value is trying to be set on a copy of a slice from a DataFrame.\n",
      "Try using .loc[row_indexer,col_indexer] = value instead\n",
      "\n",
      "See the caveats in the documentation: http://pandas.pydata.org/pandas-docs/stable/indexing.html#indexing-view-versus-copy\n",
      "  after removing the cwd from sys.path.\n"
     ]
    }
   ],
   "source": [
    "# !!! Processamento demorado para tratar as datas !!!\n",
    "dfWithDate = df\n",
    "# dfWithDate['Date'] = dfWithDate['Original Time Queued'].astype('datetime64[ns]')\n",
    "dfWithDate['Date final'] = pd.to_datetime(dfWithDate['Arrived Time'], format='%b  %d %Y %H:%M:%S:%f%p')"
   ]
  },
  {
   "cell_type": "code",
   "execution_count": 61,
   "metadata": {},
   "outputs": [
    {
     "data": {
      "text/html": [
       "<div>\n",
       "<style scoped>\n",
       "    .dataframe tbody tr th:only-of-type {\n",
       "        vertical-align: middle;\n",
       "    }\n",
       "\n",
       "    .dataframe tbody tr th {\n",
       "        vertical-align: top;\n",
       "    }\n",
       "\n",
       "    .dataframe thead th {\n",
       "        text-align: right;\n",
       "    }\n",
       "</style>\n",
       "<table border=\"1\" class=\"dataframe\">\n",
       "  <thead>\n",
       "    <tr style=\"text-align: right;\">\n",
       "      <th></th>\n",
       "      <th>Call Type</th>\n",
       "      <th>Rank Priority</th>\n",
       "    </tr>\n",
       "  </thead>\n",
       "  <tbody>\n",
       "    <tr>\n",
       "      <th>5</th>\n",
       "      <td>ONVIEW</td>\n",
       "      <td>4548533</td>\n",
       "    </tr>\n",
       "    <tr>\n",
       "      <th>0</th>\n",
       "      <td>911</td>\n",
       "      <td>1521206</td>\n",
       "    </tr>\n",
       "    <tr>\n",
       "      <th>9</th>\n",
       "      <td>TELEPHONE OTHER, NOT 911</td>\n",
       "      <td>1423880</td>\n",
       "    </tr>\n",
       "    <tr>\n",
       "      <th>1</th>\n",
       "      <td>ALARM CALL (NOT POLICE ALARM)</td>\n",
       "      <td>182885</td>\n",
       "    </tr>\n",
       "    <tr>\n",
       "      <th>4</th>\n",
       "      <td>IN PERSON COMPLAINT</td>\n",
       "      <td>118</td>\n",
       "    </tr>\n",
       "    <tr>\n",
       "      <th>6</th>\n",
       "      <td>POLICE (VARDA) ALARM</td>\n",
       "      <td>89</td>\n",
       "    </tr>\n",
       "    <tr>\n",
       "      <th>10</th>\n",
       "      <td>TEXT MESSAGE</td>\n",
       "      <td>82</td>\n",
       "    </tr>\n",
       "    <tr>\n",
       "      <th>7</th>\n",
       "      <td>PROACTIVE (OFFICER INITIATED)</td>\n",
       "      <td>72</td>\n",
       "    </tr>\n",
       "    <tr>\n",
       "      <th>3</th>\n",
       "      <td>HISTORY CALL (RETRO)</td>\n",
       "      <td>69</td>\n",
       "    </tr>\n",
       "    <tr>\n",
       "      <th>8</th>\n",
       "      <td>SCHEDULED EVENT (RECURRING)</td>\n",
       "      <td>50</td>\n",
       "    </tr>\n",
       "    <tr>\n",
       "      <th>2</th>\n",
       "      <td>FK ERROR</td>\n",
       "      <td>2</td>\n",
       "    </tr>\n",
       "  </tbody>\n",
       "</table>\n",
       "</div>"
      ],
      "text/plain": [
       "                        Call Type  Rank Priority\n",
       "5                          ONVIEW        4548533\n",
       "0                             911        1521206\n",
       "9        TELEPHONE OTHER, NOT 911        1423880\n",
       "1   ALARM CALL (NOT POLICE ALARM)         182885\n",
       "4             IN PERSON COMPLAINT            118\n",
       "6            POLICE (VARDA) ALARM             89\n",
       "10                   TEXT MESSAGE             82\n",
       "7   PROACTIVE (OFFICER INITIATED)             72\n",
       "3            HISTORY CALL (RETRO)             69\n",
       "8     SCHEDULED EVENT (RECURRING)             50\n",
       "2                        FK ERROR              2"
      ]
     },
     "execution_count": 61,
     "metadata": {},
     "output_type": "execute_result"
    }
   ],
   "source": [
    "dfCallByDateLast5years = dfWithDate\n",
    "dfCallByDateLast5years = dfCallByDateLast5years[dfCallByDateLast5years['Date'] > '04-30-2014']\n",
    "gorupBy5yearsEventDescription = dfCallByDateLast5years.groupby(['Call Type'])\n",
    "dfRankingPriority = pd.DataFrame(gorupBy5yearsEventDescription['Priority'].sum().reset_index(name = 'Rank Priority'))\n",
    "dfRankingPriority.sort_values(by=['Rank Priority'], ascending=False)"
   ]
  },
  {
   "cell_type": "markdown",
   "metadata": {},
   "source": [
    "* Apresente o ranking das 10 chamadas mais relevantes no ano de 2018."
   ]
  },
  {
   "cell_type": "code",
   "execution_count": 67,
   "metadata": {},
   "outputs": [
    {
     "data": {
      "image/png": "[encoded data removed]",
      "text/plain": [
       "<Figure size 1440x720 with 1 Axes>"
      ]
     },
     "metadata": {
      "needs_background": "light"
     },
     "output_type": "display_data"
    }
   ],
   "source": [
    "dfCallByDate2018 = dfWithDate\n",
    "dfCallByDate2018 = dfCallByDate2018[(dfCallByDate2018['Date'] > '12-31-2017') & (dfCallByDate2018['Date'] < '01-01-2019')]\n",
    "gorupBy5yearsEventDescription = dfCallByDateLast5years.groupby('Final Call Type')\n",
    "dfRankingPriority = pd.DataFrame(gorupBy5yearsEventDescription['Priority'].sum().reset_index(name = 'Score'))\n",
    "dfRankingPriority = dfRankingPriority.sort_values(by=['Score'], ascending=False)\n",
    "dfRankingPriority.head(10)\n",
    "\n",
    "import seaborn as sns\n",
    "plt.figure(figsize=(20,10))\n",
    "\n",
    "sns.barplot(x='Final Call Type', y='Score', data=dfRankingPriority.head(10));\n",
    "\n",
    "plt.title('Top 10 chamadas')\n",
    "plt.ylabel('Score', fontsize=12)\n",
    "plt.xlabel('Chamadas', fontsize=12)\n",
    "plt.xticks(rotation=90)\n",
    "plt.show()\n",
    "# dfCallByDateLast5years['Call Type']"
   ]
  },
  {
   "cell_type": "markdown",
   "metadata": {},
   "source": [
    "- Quais as chamadas que mais demoram para serem atendidas? Há alguma relação com a prioridade?"
   ]
  },
  {
   "cell_type": "code",
   "execution_count": 69,
   "metadata": {},
   "outputs": [
    {
     "name": "stderr",
     "output_type": "stream",
     "text": [
      "/usr/local/Cellar/python/3.7.2_1/Frameworks/Python.framework/Versions/3.7/lib/python3.7/site-packages/ipykernel_launcher.py:3: SettingWithCopyWarning: \n",
      "A value is trying to be set on a copy of a slice from a DataFrame.\n",
      "Try using .loc[row_indexer,col_indexer] = value instead\n",
      "\n",
      "See the caveats in the documentation: http://pandas.pydata.org/pandas-docs/stable/indexing.html#indexing-view-versus-copy\n",
      "  This is separate from the ipykernel package so we can avoid doing imports until\n"
     ]
    },
    {
     "data": {
      "text/html": [
       "<div>\n",
       "<style scoped>\n",
       "    .dataframe tbody tr th:only-of-type {\n",
       "        vertical-align: middle;\n",
       "    }\n",
       "\n",
       "    .dataframe tbody tr th {\n",
       "        vertical-align: top;\n",
       "    }\n",
       "\n",
       "    .dataframe thead th {\n",
       "        text-align: right;\n",
       "    }\n",
       "</style>\n",
       "<table border=\"1\" class=\"dataframe\">\n",
       "  <thead>\n",
       "    <tr style=\"text-align: right;\">\n",
       "      <th></th>\n",
       "      <th>delta time sum</th>\n",
       "      <th>Score</th>\n",
       "    </tr>\n",
       "  </thead>\n",
       "  <tbody>\n",
       "    <tr>\n",
       "      <th>delta time sum</th>\n",
       "      <td>1.000000</td>\n",
       "      <td>0.678445</td>\n",
       "    </tr>\n",
       "    <tr>\n",
       "      <th>Score</th>\n",
       "      <td>0.678445</td>\n",
       "      <td>1.000000</td>\n",
       "    </tr>\n",
       "  </tbody>\n",
       "</table>\n",
       "</div>"
      ],
      "text/plain": [
       "                delta time sum     Score\n",
       "delta time sum        1.000000  0.678445\n",
       "Score                 0.678445  1.000000"
      ]
     },
     "execution_count": 69,
     "metadata": {},
     "output_type": "execute_result"
    }
   ],
   "source": [
    "dfTimeDeltat = dfWithDate\n",
    "\n",
    "dfTimeDeltat['delta_time'] = (dfTimeDeltat['Date final'] - dfTimeDeltat['Date']).astype('timedelta64[m]')\n",
    "dfTimeDeltat = dfTimeDeltat[dfTimeDeltat['delta_time'] >= 0]\n",
    "\n",
    "gorupByFinalCalltype = dfTimeDeltat.groupby(['Final Call Type'])\n",
    "dfByDeltaTime = pd.DataFrame(gorupByFinalCalltype['delta_time'].sum().reset_index(name = 'delta time sum'))\n",
    "\n",
    "dfByDeltaTime = dfByDeltaTime.sort_values(by=['delta time sum'], ascending=False)\n",
    "\n",
    "dfMergeDeltaPriority = pd.merge(dfByDeltaTime, dfRankingPriority, on='Final Call Type', how='outer')\n",
    "\n",
    "dfMergeDeltaPriority.corr()\n",
    "# De a cordo com a correlação dos dados não existe um forte relacionamento entre \n",
    "# o tempo para a ocorrência ser atendida e a priodidde."
   ]
  },
  {
   "cell_type": "code",
   "execution_count": 70,
   "metadata": {},
   "outputs": [
    {
     "data": {
      "text/html": [
       "<div>\n",
       "<style scoped>\n",
       "    .dataframe tbody tr th:only-of-type {\n",
       "        vertical-align: middle;\n",
       "    }\n",
       "\n",
       "    .dataframe tbody tr th {\n",
       "        vertical-align: top;\n",
       "    }\n",
       "\n",
       "    .dataframe thead th {\n",
       "        text-align: right;\n",
       "    }\n",
       "</style>\n",
       "<table border=\"1\" class=\"dataframe\">\n",
       "  <thead>\n",
       "    <tr style=\"text-align: right;\">\n",
       "      <th></th>\n",
       "      <th>Final Call Type</th>\n",
       "      <th>delta time sum</th>\n",
       "    </tr>\n",
       "  </thead>\n",
       "  <tbody>\n",
       "    <tr>\n",
       "      <th>123</th>\n",
       "      <td>--SUSPICIOUS CIRCUM. - SUSPICIOUS PERSON</td>\n",
       "      <td>14515460.0</td>\n",
       "    </tr>\n",
       "    <tr>\n",
       "      <th>47</th>\n",
       "      <td>--DISTURBANCE - OTHER</td>\n",
       "      <td>13271624.0</td>\n",
       "    </tr>\n",
       "    <tr>\n",
       "      <th>45</th>\n",
       "      <td>--DISTURBANCE - NOISE</td>\n",
       "      <td>8524386.0</td>\n",
       "    </tr>\n",
       "    <tr>\n",
       "      <th>135</th>\n",
       "      <td>--TRAFFIC - MOVING VIOLATION</td>\n",
       "      <td>8327298.0</td>\n",
       "    </tr>\n",
       "    <tr>\n",
       "      <th>103</th>\n",
       "      <td>--PREMISE CHECKS - CRIME PREVENTION</td>\n",
       "      <td>6955034.0</td>\n",
       "    </tr>\n",
       "  </tbody>\n",
       "</table>\n",
       "</div>"
      ],
      "text/plain": [
       "                              Final Call Type  delta time sum\n",
       "123  --SUSPICIOUS CIRCUM. - SUSPICIOUS PERSON      14515460.0\n",
       "47                      --DISTURBANCE - OTHER      13271624.0\n",
       "45                      --DISTURBANCE - NOISE       8524386.0\n",
       "135              --TRAFFIC - MOVING VIOLATION       8327298.0\n",
       "103       --PREMISE CHECKS - CRIME PREVENTION       6955034.0"
      ]
     },
     "execution_count": 70,
     "metadata": {},
     "output_type": "execute_result"
    }
   ],
   "source": [
    "# 5 Chamadas que mais demoraram para serem atendidas\n",
    "dfByDeltaTime.head(5)"
   ]
  },
  {
   "cell_type": "markdown",
   "metadata": {},
   "source": [
    "- Qual é a chamada com mais enganos, ou seja, aquelas que mais mudam de classificação entre o início da chamada e o final da chamada?"
   ]
  },
  {
   "cell_type": "code",
   "execution_count": 28,
   "metadata": {},
   "outputs": [],
   "source": [
    "# ?"
   ]
  },
  {
   "cell_type": "markdown",
   "metadata": {},
   "source": [
    "* O número médio de chamadas ao longo dos anos por delegacia tem aumentado ou diminuído?"
   ]
  },
  {
   "cell_type": "code",
   "execution_count": 75,
   "metadata": {},
   "outputs": [
    {
     "data": {
      "text/plain": [
       "<matplotlib.axes._subplots.AxesSubplot at 0x15e8d3b00>"
      ]
     },
     "execution_count": 75,
     "metadata": {},
     "output_type": "execute_result"
    },
    {
     "data": {
      "image/png": "[encoded data removed]",
      "text/plain": [
       "<Figure size 432x288 with 1 Axes>"
      ]
     },
     "metadata": {
      "needs_background": "light"
     },
     "output_type": "display_data"
    }
   ],
   "source": [
    "dfCallByYears = dfWithDate\n",
    "\n",
    "import seaborn as sns\n",
    "sns.countplot(x='year',data=dfCallByYears)"
   ]
  },
  {
   "cell_type": "markdown",
   "metadata": {},
   "source": [
    "- Carregue o data set de crimes e elimine todos os elementos que possuam valores nulos."
   ]
  },
  {
   "cell_type": "code",
   "execution_count": null,
   "metadata": {},
   "outputs": [],
   "source": []
  },
  {
   "cell_type": "markdown",
   "metadata": {},
   "source": [
    "- Qual o ranking dos 10 crimes que mais ocorreu em seattle nos últimos 3 anos? "
   ]
  },
  {
   "cell_type": "code",
   "execution_count": null,
   "metadata": {},
   "outputs": [],
   "source": []
  },
  {
   "cell_type": "markdown",
   "metadata": {},
   "source": [
    "* Qual o setor, a região e o beat mais perigoso, considerando o número total de crimes? E qual crime mais se destacou no setor?"
   ]
  },
  {
   "cell_type": "code",
   "execution_count": null,
   "metadata": {},
   "outputs": [],
   "source": []
  },
  {
   "cell_type": "markdown",
   "metadata": {},
   "source": [
    "- Crie variáveis para representar o ano, mês, dia da semana e semana (por exemplo, 2_2018) para o dataset de crimes."
   ]
  },
  {
   "cell_type": "code",
   "execution_count": null,
   "metadata": {},
   "outputs": [],
   "source": []
  },
  {
   "cell_type": "markdown",
   "metadata": {},
   "source": [
    "- Realize o join do dataset de chamadas com o dataset de crimes considerando os últimos 10 anos. *P.S.:* Observe as chaves de integração."
   ]
  },
  {
   "cell_type": "code",
   "execution_count": null,
   "metadata": {},
   "outputs": [],
   "source": []
  },
  {
   "cell_type": "markdown",
   "metadata": {},
   "source": [
    "- Existe alguma relação do número de crimes com o número de chamadas, considerando os últimos 5 anos?"
   ]
  },
  {
   "cell_type": "code",
   "execution_count": null,
   "metadata": {},
   "outputs": [],
   "source": []
  },
  {
   "cell_type": "markdown",
   "metadata": {},
   "source": [
    "- Qual o ano mais violento considerando o total de crimes?"
   ]
  },
  {
   "cell_type": "code",
   "execution_count": null,
   "metadata": {},
   "outputs": [],
   "source": []
  },
  {
   "cell_type": "markdown",
   "metadata": {},
   "source": [
    "* Qual o mês, semana e dia mais violento dos últimos 5 anos, considerando o número de crimes e o número de chamadas?"
   ]
  },
  {
   "cell_type": "code",
   "execution_count": null,
   "metadata": {},
   "outputs": [],
   "source": []
  },
  {
   "cell_type": "markdown",
   "metadata": {},
   "source": [
    "- Crie no mínimo 2 gráficos sobre quaisquer perguntas que você queira responder, considerando o dataset de crimes e explique-os de forma suscinta."
   ]
  },
  {
   "cell_type": "code",
   "execution_count": null,
   "metadata": {},
   "outputs": [],
   "source": []
  },
  {
   "cell_type": "markdown",
   "metadata": {},
   "source": [
    "- Crie no mínimo 2 gráficos sobre quaisquer perguntas que você queira responder, considerando o dataset de crimes e chamadas juntas e explique-os de forma suscinta."
   ]
  },
  {
   "cell_type": "code",
   "execution_count": null,
   "metadata": {},
   "outputs": [],
   "source": []
  },
  {
   "cell_type": "markdown",
   "metadata": {},
   "source": [
    "- Crie um pacote em python com o nome **help_seattle**, contendo outro pacote chamado **seattle_info**, e este contendo um módulo com informações do dataset de **chamadas** e outro módulo contendo informações do dataset de **crimes** módulo para responder no mínimo 3 das perguntas acima."
   ]
  },
  {
   "cell_type": "code",
   "execution_count": null,
   "metadata": {},
   "outputs": [],
   "source": []
  },
  {
   "cell_type": "markdown",
   "metadata": {},
   "source": [
    "- Em sala estudamos sobre módulos e pacotes em Python. Este é o exercício passado em sala de aula e que deve ser entregue junto com a avaliação. \n",
    "    - Crie um pacote banco que:\n",
    "        - Crie um pacote que cadastre contas de pessoas físicas e jurídicas\n",
    "        - Crie um pacote que conceda empréstimos e informe o valor da prestação considerando:\n",
    "            - 10% de juros do empréstimo mais 0,5% do número de prestações para pessoas físicas\n",
    "            - 5% de juros do empréstimo mais 0,3% do número de prestações para pessoas físicas\n",
    "        - Crie um módulo para realizar as operações de saque, deposito e transferencia, cobrança de tarifa, R\\\\$-20,00 para PF e R\\\\$: 10,00 para PF\n",
    "        - Simule o lucro total do banco considerando o pagamento da tarifa de todos os clientes e os empréstimos realizados.\n",
    "        - Crie um script em python ou um jupyter notebook que demostre a utilização do pacote"
   ]
  },
  {
   "cell_type": "code",
   "execution_count": null,
   "metadata": {},
   "outputs": [],
   "source": []
  },
  {
   "cell_type": "markdown",
   "metadata": {},
   "source": [
    "### Desafios"
   ]
  },
  {
   "cell_type": "markdown",
   "metadata": {},
   "source": [
    "#### Desafio 1 (+3 Pontos extras)"
   ]
  },
  {
   "cell_type": "markdown",
   "metadata": {},
   "source": [
    "* Faça este [curso online](https://www.datacamp.com/community/open-courses/introducao-a-r) e gratuito de introdução ao R e salve todos o hands on em úm unico script ou arquivo jupyter notebook\n",
    "* Baixe e configure o R studio  seguindo as instruções desse [tutorial](https://campus.datacamp.com/courses/introducao-a-r/capitulo-1-introducao-ao-basico?ex=1)\n",
    "* Se quiser você pode baixar o R Studio a partir do Anaconda Navigator e utilizar no Jupyter notebook. Veja [aqui](https://docs.anaconda.com/anaconda/navigator/tutorials/r-lang/) algumas dicas"
   ]
  },
  {
   "cell_type": "code",
   "execution_count": null,
   "metadata": {},
   "outputs": [],
   "source": []
  },
  {
   "cell_type": "markdown",
   "metadata": {},
   "source": [
    "#### Desafio 2 (+1,5 Ponto extra)"
   ]
  },
  {
   "cell_type": "markdown",
   "metadata": {},
   "source": [
    "* Crie um spark-job que calcule o número de chamadas feitas de alguma forma através do 911 (considere a programação utilizando **RDD**). Liste o setor, a região e o beat com maior número de chamadas 911? Veja o exemplo de um spark-job no nosso material."
   ]
  },
  {
   "cell_type": "code",
   "execution_count": null,
   "metadata": {},
   "outputs": [],
   "source": []
  }
 ],
 "metadata": {
  "kernelspec": {
   "display_name": "Python 3",
   "language": "python",
   "name": "python3"
  },
  "language_info": {
   "codemirror_mode": {
    "name": "ipython",
    "version": 3
   },
   "file_extension": ".py",
   "mimetype": "text/x-python",
   "name": "python",
   "nbconvert_exporter": "python",
   "pygments_lexer": "ipython3",
   "version": "3.7.2"
  }
 },
 "nbformat": 4,
 "nbformat_minor": 2
}
